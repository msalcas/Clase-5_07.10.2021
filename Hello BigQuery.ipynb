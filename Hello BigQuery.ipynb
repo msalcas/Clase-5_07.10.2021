{
 "cells": [
  {
   "cell_type": "code",
   "execution_count": 7,
   "id": "occupational-titanium",
   "metadata": {
    "ExecuteTime": {
     "end_time": "2021-10-08T00:52:14.802154Z",
     "start_time": "2021-10-08T00:52:14.799932Z"
    }
   },
   "outputs": [],
   "source": [
    "import pandas as pd\n",
    "import pandas_gbq as gbq"
   ]
  },
  {
   "cell_type": "code",
   "execution_count": 8,
   "id": "closed-roberts",
   "metadata": {
    "ExecuteTime": {
     "end_time": "2021-10-08T00:52:15.242759Z",
     "start_time": "2021-10-08T00:52:15.240897Z"
    }
   },
   "outputs": [],
   "source": [
    "sql = \"select count(*) from `bigdatita-328400.taxis.trips`\""
   ]
  },
  {
   "cell_type": "code",
   "execution_count": 9,
   "id": "awful-convenience",
   "metadata": {
    "ExecuteTime": {
     "end_time": "2021-10-08T00:52:24.805312Z",
     "start_time": "2021-10-08T00:52:15.577847Z"
    }
   },
   "outputs": [
    {
     "name": "stderr",
     "output_type": "stream",
     "text": [
      "Downloading: 100%|██████████| 1/1 [00:00<00:00,  2.05rows/s]\n"
     ]
    }
   ],
   "source": [
    "df = gbq.read_gbq(project_id='bigdatita-328400',query=sql)"
   ]
  },
  {
   "cell_type": "code",
   "execution_count": 10,
   "id": "inappropriate-triple",
   "metadata": {
    "ExecuteTime": {
     "end_time": "2021-10-08T00:52:31.768223Z",
     "start_time": "2021-10-08T00:52:31.515499Z"
    }
   },
   "outputs": [
    {
     "data": {
      "text/html": [
       "<div>\n",
       "<style scoped>\n",
       "    .dataframe tbody tr th:only-of-type {\n",
       "        vertical-align: middle;\n",
       "    }\n",
       "\n",
       "    .dataframe tbody tr th {\n",
       "        vertical-align: top;\n",
       "    }\n",
       "\n",
       "    .dataframe thead th {\n",
       "        text-align: right;\n",
       "    }\n",
       "</style>\n",
       "<table border=\"1\" class=\"dataframe\">\n",
       "  <thead>\n",
       "    <tr style=\"text-align: right;\">\n",
       "      <th></th>\n",
       "      <th>f0_</th>\n",
       "    </tr>\n",
       "  </thead>\n",
       "  <tbody>\n",
       "    <tr>\n",
       "      <th>0</th>\n",
       "      <td>1705805</td>\n",
       "    </tr>\n",
       "  </tbody>\n",
       "</table>\n",
       "</div>"
      ],
      "text/plain": [
       "       f0_\n",
       "0  1705805"
      ]
     },
     "execution_count": 10,
     "metadata": {},
     "output_type": "execute_result"
    }
   ],
   "source": [
    "df"
   ]
  },
  {
   "cell_type": "code",
   "execution_count": null,
   "id": "phantom-granny",
   "metadata": {},
   "outputs": [],
   "source": []
  }
 ],
 "metadata": {
  "kernelspec": {
   "display_name": "ins",
   "language": "python",
   "name": "ins"
  },
  "language_info": {
   "codemirror_mode": {
    "name": "ipython",
    "version": 3
   },
   "file_extension": ".py",
   "mimetype": "text/x-python",
   "name": "python",
   "nbconvert_exporter": "python",
   "pygments_lexer": "ipython3",
   "version": "3.8.10"
  },
  "toc": {
   "base_numbering": 1,
   "nav_menu": {},
   "number_sections": true,
   "sideBar": true,
   "skip_h1_title": false,
   "title_cell": "Table of Contents",
   "title_sidebar": "Contents",
   "toc_cell": false,
   "toc_position": {},
   "toc_section_display": true,
   "toc_window_display": false
  }
 },
 "nbformat": 4,
 "nbformat_minor": 5
}
